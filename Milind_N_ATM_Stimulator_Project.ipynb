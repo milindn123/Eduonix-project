{
  "nbformat": 4,
  "nbformat_minor": 0,
  "metadata": {
    "colab": {
      "provenance": []
    },
    "kernelspec": {
      "name": "python3",
      "display_name": "Python 3"
    },
    "language_info": {
      "name": "python"
    }
  },
  "cells": [
    {
      "cell_type": "code",
      "execution_count": 1,
      "metadata": {
        "id": "A-PKE1TjqaK6"
      },
      "outputs": [],
      "source": [
        "# Creating ATM Machine Functionality Program for the user when he will enter the ATM Card and Will use fuction as per his need.\n",
        "\n",
        "#Lets first define the user in the form user class where in further we define multiple users entering in ATM Room\n",
        "\n",
        "class User:\n",
        "  def __init__(self, pin, balance, name):\n",
        "    self.balance = balance\n",
        "    self.correct_pin = pin\n",
        "    self.name = name"
      ]
    },
    {
      "cell_type": "code",
      "source": [
        "#Now lets make the function of ATM Machine for the user by defining the function and using the main class in it.\n",
        "\n",
        "def atm_machine(user):\n",
        "    print(f'''\n",
        "            ***** Welcome {user.name} To ATM Machine Simulator *****\n",
        "         ''')\n",
        "\n",
        "    pin=int(input('Enter Your Pin: '))\n",
        "    if pin!=user.correct_pin:\n",
        "      print(\"Incorrect pin\")\n",
        "      print(\"Thank you\")\n",
        "      return\n",
        "    while True:\n",
        "      print('''\n",
        "              Options you can Excercise are:\n",
        "              1) Balance\n",
        "              2) Withdraw\n",
        "              3) Deposit\n",
        "              4) Change pin\n",
        "              5) Exit\n",
        "          ''')\n",
        "      choose=int(input('Select Your Transaction from the above options: '))\n",
        "      if choose==1:\n",
        "          print(f'Available A/C Balance Is {user.balance}')\n",
        "      elif choose==2:\n",
        "          withdraw=int(input('Enter Amount: '))\n",
        "          if withdraw<=user.balance:\n",
        "              user.balance-=withdraw\n",
        "              print(f'Your availabe balance is {user.balance}')\n",
        "          else:\n",
        "              print('Insufficient Balance')\n",
        "      elif choose==3:\n",
        "          amount=int(input('Enter Amount: '))\n",
        "          user.balance+=amount\n",
        "          print(f'New Balance is {user.balance}')\n",
        "      elif choose==4:\n",
        "          new_pin = int(input(\"Enter the new pin: \"))\n",
        "          user.correct_pin = new_pin\n",
        "      elif choose==5:\n",
        "          print(\"Thank you!\")\n",
        "          break\n",
        "      else:\n",
        "          print('Incorrect choice')\n",
        "    return"
      ],
      "metadata": {
        "id": "LbdnqGD2srN8"
      },
      "execution_count": 3,
      "outputs": []
    },
    {
      "cell_type": "code",
      "source": [
        "#Lets define the user and set the values such as pin, 10k bank balance as per project, Call the user name.\n",
        "\n",
        "Milind = User(12345, 10000, \"Milind\")"
      ],
      "metadata": {
        "id": "9md7d6HTtmRp"
      },
      "execution_count": 4,
      "outputs": []
    },
    {
      "cell_type": "code",
      "source": [
        "#Now we will enter in the ATM Room and Insert Card in ATM Start using as per need\n",
        "\n",
        "atm_machine(Milind)"
      ],
      "metadata": {
        "colab": {
          "base_uri": "https://localhost:8080/"
        },
        "id": "eYfHYJD-uXI0",
        "outputId": "015c74ad-8920-4dce-f15d-7293361587be"
      },
      "execution_count": 5,
      "outputs": [
        {
          "output_type": "stream",
          "name": "stdout",
          "text": [
            "\n",
            "            ***** Welcome Milind To ATM Machine Simulator *****\n",
            "         \n",
            "Enter Your Pin: 12345\n",
            "\n",
            "              Options you can Excercise are:\n",
            "              1) Balance\n",
            "              2) Withdraw\n",
            "              3) Deposit\n",
            "              4) Change pin\n",
            "              5) Exit\n",
            "          \n",
            "Select Your Transaction from the above options: 1\n",
            "Available A/C Balance Is 10000\n",
            "\n",
            "              Options you can Excercise are:\n",
            "              1) Balance\n",
            "              2) Withdraw\n",
            "              3) Deposit\n",
            "              4) Change pin\n",
            "              5) Exit\n",
            "          \n",
            "Select Your Transaction from the above options: 2\n",
            "Enter Amount: 11000\n",
            "Insufficient Balance\n",
            "\n",
            "              Options you can Excercise are:\n",
            "              1) Balance\n",
            "              2) Withdraw\n",
            "              3) Deposit\n",
            "              4) Change pin\n",
            "              5) Exit\n",
            "          \n",
            "Select Your Transaction from the above options: 3\n",
            "Enter Amount: 1000\n",
            "New Balance is 11000\n",
            "\n",
            "              Options you can Excercise are:\n",
            "              1) Balance\n",
            "              2) Withdraw\n",
            "              3) Deposit\n",
            "              4) Change pin\n",
            "              5) Exit\n",
            "          \n",
            "Select Your Transaction from the above options: 4\n",
            "Enter the new pin: 54321\n",
            "\n",
            "              Options you can Excercise are:\n",
            "              1) Balance\n",
            "              2) Withdraw\n",
            "              3) Deposit\n",
            "              4) Change pin\n",
            "              5) Exit\n",
            "          \n",
            "Select Your Transaction from the above options: 5\n",
            "Thank you!\n"
          ]
        }
      ]
    },
    {
      "cell_type": "code",
      "source": [],
      "metadata": {
        "id": "kz55tB9IusWc"
      },
      "execution_count": null,
      "outputs": []
    }
  ]
}
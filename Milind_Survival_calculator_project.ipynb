{
  "nbformat": 4,
  "nbformat_minor": 0,
  "metadata": {
    "colab": {
      "provenance": []
    },
    "kernelspec": {
      "name": "python3",
      "display_name": "Python 3"
    },
    "language_info": {
      "name": "python"
    }
  },
  "cells": [
    {
      "cell_type": "code",
      "execution_count": 17,
      "metadata": {
        "colab": {
          "base_uri": "https://localhost:8080/"
        },
        "id": "BoGq6p00-GHw",
        "outputId": "84f84944-f3b5-4c8e-d28e-b98fde77aab4"
      },
      "outputs": [
        {
          "output_type": "stream",
          "name": "stdout",
          "text": [
            "Welcome to the survival duration calculator\n",
            "Please Enter your age in years:30\n",
            "Please choose your prefered time unit:\n",
            "          1.Months,\n",
            "          2.Weeks,\n",
            "          3.Days,\n",
            "          4.Hours,\n",
            "          5.Minutes,\n",
            "          6.Seconds\n",
            "          Select the unit option1\n",
            "You have survived 360 months\n"
          ]
        }
      ],
      "source": [
        "# As per the given problem statement as a solution need to develop a calculator function which can tell person who long he/she has lived till date\n",
        "# in multiple units as he choose.\n",
        "print(\"Welcome to the survival duration calculator\")\n",
        "\n",
        "age =int(input(\"Please Enter your age in years:\"))\n",
        "\n",
        "unit_option = input(f'''Please choose your prefered time unit:\n",
        "          1.Months,\n",
        "          2.Weeks,\n",
        "          3.Days,\n",
        "          4.Hours,\n",
        "          5.Minutes,\n",
        "          6.Seconds\n",
        "          Select the unit option''')\n",
        "if unit_option ==\"1\":\n",
        "  print(f\"You have survived {age*12} months\")\n",
        "\n",
        "elif unit_option ==\"2\":\n",
        "  print(f\"You have survived {age*12*4} weeks\")\n",
        "\n",
        "elif unit_option ==\"3\":\n",
        "  print(f\"You have survived {age*365} days\")\n",
        "\n",
        "elif unit_option ==\"4\":\n",
        "  print(f\"You have survived {age*12*4*24} hours\")\n",
        "\n",
        "elif unit_option ==\"5\":\n",
        "  print(f\"You have survived {age*12*4*24*60} minutes\")\n",
        "\n",
        "elif unit_option ==\"6\":\n",
        "  print(f\"You have survived {age*12*4*24*60*60} seconds\")\n",
        "\n",
        "else:\n",
        "  print(\"Select Correct Option\")\n"
      ]
    },
    {
      "cell_type": "code",
      "source": [],
      "metadata": {
        "id": "iIAbdqIBAP4o"
      },
      "execution_count": null,
      "outputs": []
    }
  ]
}